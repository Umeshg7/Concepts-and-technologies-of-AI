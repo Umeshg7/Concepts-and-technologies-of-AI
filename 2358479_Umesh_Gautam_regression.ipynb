{
  "nbformat": 4,
  "nbformat_minor": 0,
  "metadata": {
    "colab": {
      "provenance": []
    },
    "kernelspec": {
      "name": "python3",
      "display_name": "Python 3"
    },
    "language_info": {
      "name": "python"
    }
  },
  "cells": [
    {
      "cell_type": "markdown",
      "source": [
        "Regression"
      ],
      "metadata": {
        "id": "o20HCToRg7hQ"
      }
    },
    {
      "cell_type": "markdown",
      "source": [
        "This ipny focused on regression modeling using a chosen dataset. Beginning with data exploration, insights into its attributes, origin, and potential questions it could answer were obtained. Two regression models were built, evaluated, and optimized through hyper-parameter tuning and feature selection. The final models were constructed by integrating the best hyper-parameters and selected features."
      ],
      "metadata": {
        "id": "tLIR_eZLbYz1"
      }
    },
    {
      "cell_type": "code",
      "execution_count": 66,
      "metadata": {
        "id": "ak4r-vWX2Hby"
      },
      "outputs": [],
      "source": [
        "# Importing  necessary libraries\n",
        "import pandas as pd\n",
        "import matplotlib.pyplot as plt\n",
        "import seaborn as sns\n",
        "from sklearn.model_selection import train_test_split\n",
        "from sklearn.linear_model import LogisticRegression\n",
        "from sklearn.svm import SVC\n",
        "from sklearn.metrics import accuracy_score, classification_report\n",
        "\n"
      ]
    },
    {
      "cell_type": "code",
      "source": [
        "#importing the csv file from laptop to colab.\n",
        "from google.colab import files\n",
        "upload=files.upload()"
      ],
      "metadata": {
        "colab": {
          "base_uri": "https://localhost:8080/",
          "height": 73
        },
        "id": "8Hfv_sez2Sgy",
        "outputId": "04f36240-02f3-4b86-f348-d533b2642b2d"
      },
      "execution_count": 67,
      "outputs": [
        {
          "output_type": "display_data",
          "data": {
            "text/plain": [
              "<IPython.core.display.HTML object>"
            ],
            "text/html": [
              "\n",
              "     <input type=\"file\" id=\"files-be8178f4-a525-4773-b51b-da771976d022\" name=\"files[]\" multiple disabled\n",
              "        style=\"border:none\" />\n",
              "     <output id=\"result-be8178f4-a525-4773-b51b-da771976d022\">\n",
              "      Upload widget is only available when the cell has been executed in the\n",
              "      current browser session. Please rerun this cell to enable.\n",
              "      </output>\n",
              "      <script>// Copyright 2017 Google LLC\n",
              "//\n",
              "// Licensed under the Apache License, Version 2.0 (the \"License\");\n",
              "// you may not use this file except in compliance with the License.\n",
              "// You may obtain a copy of the License at\n",
              "//\n",
              "//      http://www.apache.org/licenses/LICENSE-2.0\n",
              "//\n",
              "// Unless required by applicable law or agreed to in writing, software\n",
              "// distributed under the License is distributed on an \"AS IS\" BASIS,\n",
              "// WITHOUT WARRANTIES OR CONDITIONS OF ANY KIND, either express or implied.\n",
              "// See the License for the specific language governing permissions and\n",
              "// limitations under the License.\n",
              "\n",
              "/**\n",
              " * @fileoverview Helpers for google.colab Python module.\n",
              " */\n",
              "(function(scope) {\n",
              "function span(text, styleAttributes = {}) {\n",
              "  const element = document.createElement('span');\n",
              "  element.textContent = text;\n",
              "  for (const key of Object.keys(styleAttributes)) {\n",
              "    element.style[key] = styleAttributes[key];\n",
              "  }\n",
              "  return element;\n",
              "}\n",
              "\n",
              "// Max number of bytes which will be uploaded at a time.\n",
              "const MAX_PAYLOAD_SIZE = 100 * 1024;\n",
              "\n",
              "function _uploadFiles(inputId, outputId) {\n",
              "  const steps = uploadFilesStep(inputId, outputId);\n",
              "  const outputElement = document.getElementById(outputId);\n",
              "  // Cache steps on the outputElement to make it available for the next call\n",
              "  // to uploadFilesContinue from Python.\n",
              "  outputElement.steps = steps;\n",
              "\n",
              "  return _uploadFilesContinue(outputId);\n",
              "}\n",
              "\n",
              "// This is roughly an async generator (not supported in the browser yet),\n",
              "// where there are multiple asynchronous steps and the Python side is going\n",
              "// to poll for completion of each step.\n",
              "// This uses a Promise to block the python side on completion of each step,\n",
              "// then passes the result of the previous step as the input to the next step.\n",
              "function _uploadFilesContinue(outputId) {\n",
              "  const outputElement = document.getElementById(outputId);\n",
              "  const steps = outputElement.steps;\n",
              "\n",
              "  const next = steps.next(outputElement.lastPromiseValue);\n",
              "  return Promise.resolve(next.value.promise).then((value) => {\n",
              "    // Cache the last promise value to make it available to the next\n",
              "    // step of the generator.\n",
              "    outputElement.lastPromiseValue = value;\n",
              "    return next.value.response;\n",
              "  });\n",
              "}\n",
              "\n",
              "/**\n",
              " * Generator function which is called between each async step of the upload\n",
              " * process.\n",
              " * @param {string} inputId Element ID of the input file picker element.\n",
              " * @param {string} outputId Element ID of the output display.\n",
              " * @return {!Iterable<!Object>} Iterable of next steps.\n",
              " */\n",
              "function* uploadFilesStep(inputId, outputId) {\n",
              "  const inputElement = document.getElementById(inputId);\n",
              "  inputElement.disabled = false;\n",
              "\n",
              "  const outputElement = document.getElementById(outputId);\n",
              "  outputElement.innerHTML = '';\n",
              "\n",
              "  const pickedPromise = new Promise((resolve) => {\n",
              "    inputElement.addEventListener('change', (e) => {\n",
              "      resolve(e.target.files);\n",
              "    });\n",
              "  });\n",
              "\n",
              "  const cancel = document.createElement('button');\n",
              "  inputElement.parentElement.appendChild(cancel);\n",
              "  cancel.textContent = 'Cancel upload';\n",
              "  const cancelPromise = new Promise((resolve) => {\n",
              "    cancel.onclick = () => {\n",
              "      resolve(null);\n",
              "    };\n",
              "  });\n",
              "\n",
              "  // Wait for the user to pick the files.\n",
              "  const files = yield {\n",
              "    promise: Promise.race([pickedPromise, cancelPromise]),\n",
              "    response: {\n",
              "      action: 'starting',\n",
              "    }\n",
              "  };\n",
              "\n",
              "  cancel.remove();\n",
              "\n",
              "  // Disable the input element since further picks are not allowed.\n",
              "  inputElement.disabled = true;\n",
              "\n",
              "  if (!files) {\n",
              "    return {\n",
              "      response: {\n",
              "        action: 'complete',\n",
              "      }\n",
              "    };\n",
              "  }\n",
              "\n",
              "  for (const file of files) {\n",
              "    const li = document.createElement('li');\n",
              "    li.append(span(file.name, {fontWeight: 'bold'}));\n",
              "    li.append(span(\n",
              "        `(${file.type || 'n/a'}) - ${file.size} bytes, ` +\n",
              "        `last modified: ${\n",
              "            file.lastModifiedDate ? file.lastModifiedDate.toLocaleDateString() :\n",
              "                                    'n/a'} - `));\n",
              "    const percent = span('0% done');\n",
              "    li.appendChild(percent);\n",
              "\n",
              "    outputElement.appendChild(li);\n",
              "\n",
              "    const fileDataPromise = new Promise((resolve) => {\n",
              "      const reader = new FileReader();\n",
              "      reader.onload = (e) => {\n",
              "        resolve(e.target.result);\n",
              "      };\n",
              "      reader.readAsArrayBuffer(file);\n",
              "    });\n",
              "    // Wait for the data to be ready.\n",
              "    let fileData = yield {\n",
              "      promise: fileDataPromise,\n",
              "      response: {\n",
              "        action: 'continue',\n",
              "      }\n",
              "    };\n",
              "\n",
              "    // Use a chunked sending to avoid message size limits. See b/62115660.\n",
              "    let position = 0;\n",
              "    do {\n",
              "      const length = Math.min(fileData.byteLength - position, MAX_PAYLOAD_SIZE);\n",
              "      const chunk = new Uint8Array(fileData, position, length);\n",
              "      position += length;\n",
              "\n",
              "      const base64 = btoa(String.fromCharCode.apply(null, chunk));\n",
              "      yield {\n",
              "        response: {\n",
              "          action: 'append',\n",
              "          file: file.name,\n",
              "          data: base64,\n",
              "        },\n",
              "      };\n",
              "\n",
              "      let percentDone = fileData.byteLength === 0 ?\n",
              "          100 :\n",
              "          Math.round((position / fileData.byteLength) * 100);\n",
              "      percent.textContent = `${percentDone}% done`;\n",
              "\n",
              "    } while (position < fileData.byteLength);\n",
              "  }\n",
              "\n",
              "  // All done.\n",
              "  yield {\n",
              "    response: {\n",
              "      action: 'complete',\n",
              "    }\n",
              "  };\n",
              "}\n",
              "\n",
              "scope.google = scope.google || {};\n",
              "scope.google.colab = scope.google.colab || {};\n",
              "scope.google.colab._files = {\n",
              "  _uploadFiles,\n",
              "  _uploadFilesContinue,\n",
              "};\n",
              "})(self);\n",
              "</script> "
            ]
          },
          "metadata": {}
        },
        {
          "output_type": "stream",
          "name": "stdout",
          "text": [
            "Saving 8.csv to 8 (1).csv\n"
          ]
        }
      ]
    },
    {
      "cell_type": "code",
      "source": [
        "#This code reads a car price prediction dataset from a CSV file  into a Pandas DataFrame.\n",
        "df= pd.read_csv('8.csv')"
      ],
      "metadata": {
        "id": "XfoQfj042W6D"
      },
      "execution_count": 68,
      "outputs": []
    },
    {
      "cell_type": "code",
      "source": [
        "#displaying information about the dataset, including details about the columns, data types, and non-null values.\n",
        "print(\"data Information:\")\n",
        "print(df.info())"
      ],
      "metadata": {
        "colab": {
          "base_uri": "https://localhost:8080/"
        },
        "id": "Rj5MXhIb2YKy",
        "outputId": "188569f6-d0e5-415c-f50d-e8352a65523a"
      },
      "execution_count": 69,
      "outputs": [
        {
          "output_type": "stream",
          "name": "stdout",
          "text": [
            "data Information:\n",
            "<class 'pandas.core.frame.DataFrame'>\n",
            "RangeIndex: 307 entries, 0 to 306\n",
            "Data columns (total 8 columns):\n",
            " #   Column         Non-Null Count  Dtype  \n",
            "---  ------         --------------  -----  \n",
            " 0   Car_Name       307 non-null    object \n",
            " 1   Year           307 non-null    int64  \n",
            " 2   Present_Price  307 non-null    float64\n",
            " 3   Kms_Driven     306 non-null    float64\n",
            " 4   Fuel_Type      307 non-null    object \n",
            " 5   Seller_Type    306 non-null    object \n",
            " 6   Transmission   307 non-null    object \n",
            " 7   Owner          306 non-null    float64\n",
            "dtypes: float64(3), int64(1), object(4)\n",
            "memory usage: 19.3+ KB\n",
            "None\n"
          ]
        }
      ]
    },
    {
      "cell_type": "code",
      "source": [
        "#printing the first few rows of the dataset, providing a view to the type of data it contains.\n",
        "print(\"columns head of the dataset :\")\n",
        "print(df.head())"
      ],
      "metadata": {
        "colab": {
          "base_uri": "https://localhost:8080/"
        },
        "id": "wDmcrDAZ2b0z",
        "outputId": "8847936e-4f5d-49dc-957f-33fbf00f12c6"
      },
      "execution_count": 70,
      "outputs": [
        {
          "output_type": "stream",
          "name": "stdout",
          "text": [
            "columns head of the dataset :\n",
            "  Car_Name  Year  Present_Price  Kms_Driven Fuel_Type Seller_Type  \\\n",
            "0     ritz  2014           5.59     27000.0    Petrol      Dealer   \n",
            "1      sx4  2013           9.54     43000.0    Diesel      Dealer   \n",
            "2     ciaz  2017           9.85      6900.0    Petrol      Dealer   \n",
            "3  wagon r  2011           4.15      5200.0    Petrol      Dealer   \n",
            "4    swift  2014           6.87     42450.0    Diesel      Dealer   \n",
            "\n",
            "  Transmission  Owner  \n",
            "0       Manual    0.0  \n",
            "1       Manual    0.0  \n",
            "2       Manual    0.0  \n",
            "3       Manual    0.0  \n",
            "4       Manual    0.0  \n"
          ]
        }
      ]
    },
    {
      "cell_type": "code",
      "source": [
        "#printing the summary statistics of the dataset.\n",
        "print(\"Summary Statistics:\")\n",
        "print(df.describe())"
      ],
      "metadata": {
        "colab": {
          "base_uri": "https://localhost:8080/"
        },
        "id": "lXaqc6yX2hEu",
        "outputId": "9b7e3d4e-b4a6-46ed-ecd8-821e40cc2c1c"
      },
      "execution_count": 71,
      "outputs": [
        {
          "output_type": "stream",
          "name": "stdout",
          "text": [
            "Summary Statistics:\n",
            "              Year  Present_Price     Kms_Driven       Owner\n",
            "count   307.000000     307.000000     306.000000  306.000000\n",
            "mean   2013.651466       7.632801   36713.839869    0.042484\n",
            "std       2.892240       8.567926   38835.277735    0.245936\n",
            "min    2003.000000       0.320000     500.000000    0.000000\n",
            "25%    2012.000000       1.330000   15000.000000    0.000000\n",
            "50%    2014.000000       6.100000   31802.000000    0.000000\n",
            "75%    2016.000000       9.900000   48575.250000    0.000000\n",
            "max    2018.000000      92.600000  500000.000000    3.000000\n"
          ]
        }
      ]
    },
    {
      "cell_type": "code",
      "source": [
        "# Identify Missing Values\n",
        "missing_values =df.isnull().sum()\n",
        "print(\"Missing Values:\\n\", missing_values)"
      ],
      "metadata": {
        "colab": {
          "base_uri": "https://localhost:8080/"
        },
        "id": "Bva4c8FH2kb2",
        "outputId": "57bfd7ae-6f09-475b-ef06-c1722fe3960e"
      },
      "execution_count": 72,
      "outputs": [
        {
          "output_type": "stream",
          "name": "stdout",
          "text": [
            "Missing Values:\n",
            " Car_Name         0\n",
            "Year             0\n",
            "Present_Price    0\n",
            "Kms_Driven       1\n",
            "Fuel_Type        0\n",
            "Seller_Type      1\n",
            "Transmission     0\n",
            "Owner            1\n",
            "dtype: int64\n"
          ]
        }
      ]
    },
    {
      "cell_type": "code",
      "source": [
        "#droping rows with missing values in the dataset.\n",
        "df_clean= df.dropna()"
      ],
      "metadata": {
        "id": "qtnBgF_J2ozK"
      },
      "execution_count": 73,
      "outputs": []
    },
    {
      "cell_type": "code",
      "source": [
        "duplicate_rows = df_clean.duplicated()\n",
        "print(\"Duplicate Rows:\\n\", duplicate_rows)\n",
        "\n",
        "# Drop duplicate rows\n",
        "df_clean = df_clean.drop_duplicates()"
      ],
      "metadata": {
        "colab": {
          "base_uri": "https://localhost:8080/"
        },
        "id": "W5H69V7B2p5P",
        "outputId": "d40f9c36-6da6-47e5-f17b-a85252956932"
      },
      "execution_count": 74,
      "outputs": [
        {
          "output_type": "stream",
          "name": "stdout",
          "text": [
            "Duplicate Rows:\n",
            " 0      False\n",
            "1      False\n",
            "2      False\n",
            "3      False\n",
            "4      False\n",
            "       ...  \n",
            "299    False\n",
            "300    False\n",
            "304     True\n",
            "305     True\n",
            "306     True\n",
            "Length: 304, dtype: bool\n"
          ]
        }
      ]
    },
    {
      "cell_type": "code",
      "source": [
        "# Display cleaned dataset\n",
        "print(\"Cleaned Dataset:\")\n",
        "print(df_clean.head())"
      ],
      "metadata": {
        "colab": {
          "base_uri": "https://localhost:8080/"
        },
        "id": "YiJIxUBk2tRf",
        "outputId": "e698cb3b-5965-4088-902d-5b8fa9f09745"
      },
      "execution_count": 75,
      "outputs": [
        {
          "output_type": "stream",
          "name": "stdout",
          "text": [
            "Cleaned Dataset:\n",
            "  Car_Name  Year  Present_Price  Kms_Driven Fuel_Type Seller_Type  \\\n",
            "0     ritz  2014           5.59     27000.0    Petrol      Dealer   \n",
            "1      sx4  2013           9.54     43000.0    Diesel      Dealer   \n",
            "2     ciaz  2017           9.85      6900.0    Petrol      Dealer   \n",
            "3  wagon r  2011           4.15      5200.0    Petrol      Dealer   \n",
            "4    swift  2014           6.87     42450.0    Diesel      Dealer   \n",
            "\n",
            "  Transmission  Owner  \n",
            "0       Manual    0.0  \n",
            "1       Manual    0.0  \n",
            "2       Manual    0.0  \n",
            "3       Manual    0.0  \n",
            "4       Manual    0.0  \n"
          ]
        }
      ]
    },
    {
      "cell_type": "code",
      "source": [
        "cat_cols = ['Fuel_Type', 'Seller_Type', 'Transmission', 'Owner']\n",
        "\n",
        "i=0\n",
        "while i < 4:\n",
        "    fig = plt.figure(figsize=[10,4])\n",
        "    #ax1.title.set_text(cat_cols[i])\n",
        "    plt.subplot(1,2,1)\n",
        "    sns.countplot(x=cat_cols[i], data=df_clean)\n",
        "    i += 1\n",
        "\n",
        "    #ax2.title.set_text(cat_cols[i])\n",
        "    plt.subplot(1,2,2)\n",
        "    test1=8\n",
        "    sns.countplot(x=cat_cols[i], data=df_clean)\n",
        "    i += 1\n",
        "\n",
        "    plt.show()"
      ],
      "metadata": {
        "colab": {
          "base_uri": "https://localhost:8080/",
          "height": 766
        },
        "id": "lo6-KdST239K",
        "outputId": "4c2de494-5215-4838-8fc9-6db9450aaaa4"
      },
      "execution_count": 91,
      "outputs": [
        {
          "output_type": "display_data",
          "data": {
            "text/plain": [
              "<Figure size 1000x400 with 2 Axes>"
            ],
            "image/png": "[encoded data removed]"
          },
          "metadata": {}
        },
        {
          "output_type": "display_data",
          "data": {
            "text/plain": [
              "<Figure size 1000x400 with 2 Axes>"
            ],
            "image/png": "[encoded data removed]"
          },
          "metadata": {}
        }
      ]
    },
    {
      "cell_type": "markdown",
      "source": [
        "This count plot displays four categories: fuel type, seller type, transmission, and owner. Among the fuel types, petrol accounts for approximately 240 instances, with diesel comprising a similar percentage, while CNG is less common. In terms of seller type, dealers dominate with nearly 190 instances, followed by individuals at almost 100. Manual transmission is the most prevalent, with automatic representing around 10% of manual. Regarding ownership, vehicles with zero owners are the highest at about 290, while those with one owner make up nearly 10%, and those with multiple owners, ranging from one to five, constitute around 1%."
      ],
      "metadata": {
        "id": "TKXBA9w_cF1a"
      }
    },
    {
      "cell_type": "code",
      "source": [
        "sns.heatmap(df_clean.corr(numeric_only=True), annot=True, cmap=\"RdBu\")\n",
        "plt.show()\n"
      ],
      "metadata": {
        "colab": {
          "base_uri": "https://localhost:8080/",
          "height": 435
        },
        "id": "5ewek9Hc27jo",
        "outputId": "ecaf19bc-dd68-403f-a6f1-f0d96597dfe9"
      },
      "execution_count": 77,
      "outputs": [
        {
          "output_type": "display_data",
          "data": {
            "text/plain": [
              "<Figure size 640x480 with 2 Axes>"
            ],
            "image/png": "[encoded data removed]"
          },
          "metadata": {}
        }
      ]
    },
    {
      "cell_type": "markdown",
      "source": [
        "This heatmap illustrates the correlations between owner, kilometers driven, present price, and year. Notably, there is a strong negative correlation of approximately -0.53 between year and kilometers driven. Additionally, a positive correlation of 0.21 is observed between year, present price, and kilometers driven. The weakest correlation is found between present price and owner, with a coefficient of only 0.0099."
      ],
      "metadata": {
        "id": "T6_KndDKddyD"
      }
    },
    {
      "cell_type": "code",
      "source": [
        "# Separating target variable and its features\n",
        "y = df_clean['Present_Price']\n",
        "X = df_clean.drop('Present_Price', axis=1)\n",
        "\n",
        "# Split the dataset into training and testing sets\n",
        "X_train, X_test, y_train, y_test = train_test_split(X, y, test_size=0.2, random_state=42)"
      ],
      "metadata": {
        "id": "accnIEQI2_Ms"
      },
      "execution_count": 104,
      "outputs": []
    },
    {
      "cell_type": "code",
      "source": [
        "  # Print the column names of your DataFrame\n",
        "print(X_train.columns)"
      ],
      "metadata": {
        "colab": {
          "base_uri": "https://localhost:8080/"
        },
        "id": "p2HZ7vAr_cgu",
        "outputId": "e2fef727-2751-43b7-df65-770e03556fb6"
      },
      "execution_count": 79,
      "outputs": [
        {
          "output_type": "stream",
          "name": "stdout",
          "text": [
            "Index(['Car_Name', 'Year', 'Kms_Driven', 'Fuel_Type', 'Seller_Type',\n",
            "       'Transmission', 'Owner'],\n",
            "      dtype='object')\n"
          ]
        }
      ]
    },
    {
      "cell_type": "code",
      "source": [
        "import pandas as pd\n",
        "from sklearn.model_selection import train_test_split, GridSearchCV\n",
        "from sklearn.linear_model import LinearRegression\n",
        "from sklearn.tree import DecisionTreeRegressor\n",
        "from sklearn.metrics import mean_squared_error\n",
        "\n",
        "# One-hot encoding for categorical variables\n",
        "X_encoded = pd.get_dummies(X, columns=['Car_Name', 'Fuel_Type', 'Seller_Type', 'Transmission'], drop_first=True)\n",
        "\n",
        "# Split the dataset into training and testing sets\n",
        "X_train, X_test, y_train, y_test = train_test_split(X_encoded, y, test_size=0.2, random_state=42)\n",
        "\n",
        "# Hyperparameter optimization with Cross-Validation for Linear Regression\n",
        "param_grid_linear = {'fit_intercept': [True, False]}\n",
        "grid_search_linear = GridSearchCV(LinearRegression(), param_grid_linear, cv=5, scoring='neg_mean_squared_error')\n",
        "grid_search_linear.fit(X_train, y_train)\n",
        "\n",
        "# Hyperparameter optimization with Cross-Validation for Decision Tree Regression\n",
        "grid_search_tree = GridSearchCV(DecisionTreeRegressor(random_state=42), param_grid_tree, cv=5, scoring='neg_mean_squared_error')\n",
        "grid_search_tree.fit(X_train, y_train)\n",
        "\n",
        "# Print best hyperparameters\n",
        "print(\"\\nBest Hyperparameters for Linear Regression:\", grid_search_linear.best_params_)\n",
        "print(\"Best Hyperparameters for Decision Tree Regression:\", grid_search_tree.best_params_)\n",
        "\n",
        "# Evaluate models with best hyperparameters on the test dataset\n",
        "linear_pred_tuned = grid_search_linear.best_estimator_.predict(X_test)\n",
        "tree_pred_tuned = grid_search_tree.best_estimator_.predict(X_test)\n",
        "\n",
        "# Calculate Mean Squared Error (MSE) for evaluation\n",
        "mse_linear_tuned = mean_squared_error(y_test, linear_pred_tuned)\n",
        "mse_tree_tuned = mean_squared_error(y_test, tree_pred_tuned)\n",
        "\n",
        "# Print MSE for both models\n",
        "print(f\"\\nMean Squared Error for Linear Regression: {mse_linear}\")\n",
        "print(f\"Mean Squared Error for Decision Tree Regression: {mse_tree}\")\n",
        "\n",
        "# Conclude: Compare the performance of both models and decide which one performed better\n",
        "if mse_linear_tuned < mse_tree_tuned:\n",
        "    print(\"\\nLinear Regression performed better on the test dataset.\")\n",
        "else:\n",
        "    print(\"\\nDecision Tree Regression performed better on the test dataset.\")\n"
      ],
      "metadata": {
        "colab": {
          "base_uri": "https://localhost:8080/"
        },
        "id": "qcpqI2Xq4OAm",
        "outputId": "3d9326bc-9389-41ee-f06f-ae0ea84dc263"
      },
      "execution_count": 101,
      "outputs": [
        {
          "output_type": "stream",
          "name": "stdout",
          "text": [
            "\n",
            "Best Hyperparameters for Linear Regression: {'fit_intercept': True}\n",
            "Best Hyperparameters for Decision Tree Regression: {'max_depth': 15, 'min_samples_leaf': 1, 'min_samples_split': 5}\n",
            "\n",
            "Mean Squared Error for Linear Regression: 14.018484070363392\n",
            "Mean Squared Error for Decision Tree Regression: 16.27136708333333\n",
            "\n",
            "Linear Regression performed better on the test dataset.\n"
          ]
        }
      ]
    },
    {
      "cell_type": "markdown",
      "source": [
        "Here we performs regression analysis using Linear Regression and Decision Tree Regression models. It optimizes hyperparameters through GridSearchCV, revealing 'fit_intercept': True for Linear Regression and 'max_depth': 15, 'min_samples_leaf': 1, 'min_samples_split': 5 for Decision Tree Regression. Evaluation on the test dataset yields lower mean squared error (MSE) for Linear Regression (14.02) compared to Decision Tree Regression (16.27), indicating superior performance by Linear Regression. This underscores the significance of model selection and hyperparameter tuning in achieving accurate regression results.\n",
        "\n",
        "In summary, it shows the process of hyperparameter optimization, model evaluation, and comparison, highlighting the superior predictive capability of Linear Regression on the given dataset."
      ],
      "metadata": {
        "id": "zkmnOTctd3Ck"
      }
    },
    {
      "cell_type": "code",
      "source": [
        "# Print the column names of your DataFrame\n",
        "print(X_train.columns)\n"
      ],
      "metadata": {
        "colab": {
          "base_uri": "https://localhost:8080/"
        },
        "id": "_82sRlYO42tH",
        "outputId": "1902a26b-f1fc-4cfb-d31b-dadcf5aa552c"
      },
      "execution_count": 81,
      "outputs": [
        {
          "output_type": "stream",
          "name": "stdout",
          "text": [
            "Index(['Year', 'Kms_Driven', 'Owner', 'Car_Name_Activa 3g',\n",
            "       'Car_Name_Activa 4g', 'Car_Name_Bajaj  ct 100',\n",
            "       'Car_Name_Bajaj Avenger 150', 'Car_Name_Bajaj Avenger 150 street',\n",
            "       'Car_Name_Bajaj Avenger 220', 'Car_Name_Bajaj Avenger 220 dtsi',\n",
            "       ...\n",
            "       'Car_Name_swift', 'Car_Name_sx4', 'Car_Name_verna',\n",
            "       'Car_Name_vitara brezza', 'Car_Name_wagon r', 'Car_Name_xcent',\n",
            "       'Fuel_Type_Diesel', 'Fuel_Type_Petrol', 'Seller_Type_Individual',\n",
            "       'Transmission_Manual'],\n",
            "      dtype='object', length=104)\n"
          ]
        }
      ]
    },
    {
      "cell_type": "code",
      "source": [
        "from sklearn.feature_selection import SelectFromModel\n",
        "\n",
        "# Feature selection for Linear Regression\n",
        "linear_selector = SelectFromModel(grid_search_linear.best_estimator_)\n",
        "linear_selector.fit(X_train, y_train)\n",
        "\n",
        "# Transform the datasets\n",
        "X_train_linear_selected = linear_selector.transform(X_train)\n",
        "X_test_linear_selected = linear_selector.transform(X_test)\n",
        "\n",
        "# Feature selection for Decision Tree Regression\n",
        "tree_selector = SelectFromModel(grid_search_tree.best_estimator_)\n",
        "tree_selector.fit(X_train, y_train)\n",
        "\n",
        "# Transform the datasets\n",
        "X_train_tree_selected = tree_selector.transform(X_train)\n",
        "X_test_tree_selected = tree_selector.transform(X_test)\n",
        "\n",
        "# Display selected features\n",
        "print(\"\\nSelected features for Linear Regression:\")\n",
        "print(X_encoded.columns[linear_selector.get_support()])\n",
        "\n",
        "print(\"\\nSelected features for Decision Tree Regression:\")\n",
        "print(X_encoded.columns[tree_selector.get_support()])"
      ],
      "metadata": {
        "colab": {
          "base_uri": "https://localhost:8080/"
        },
        "id": "d2gKm7rm49yG",
        "outputId": "f8c01df6-1d05-407b-f0f3-d3b93ab359d3"
      },
      "execution_count": 83,
      "outputs": [
        {
          "output_type": "stream",
          "name": "stdout",
          "text": [
            "\n",
            "Selected features for Linear Regression:\n",
            "Index(['Car_Name_Activa 3g', 'Car_Name_Activa 4g', 'Car_Name_Bajaj  ct 100',\n",
            "       'Car_Name_Bajaj Avenger 150', 'Car_Name_Bajaj Avenger 150 street',\n",
            "       'Car_Name_Bajaj Avenger 220', 'Car_Name_Bajaj Avenger 220 dtsi',\n",
            "       'Car_Name_Bajaj Discover 100', 'Car_Name_Bajaj Discover 125',\n",
            "       'Car_Name_Bajaj Dominar 400', 'Car_Name_Bajaj Pulsar  NS 200',\n",
            "       'Car_Name_Bajaj Pulsar 135 LS', 'Car_Name_Hero  Ignitor Disc',\n",
            "       'Car_Name_Hero Extreme', 'Car_Name_Hero Passion Pro',\n",
            "       'Car_Name_Hero Passion X pro', 'Car_Name_Hero Splender Plus',\n",
            "       'Car_Name_Hero Splender iSmart', 'Car_Name_Honda Activa 125',\n",
            "       'Car_Name_Honda Activa 4G', 'Car_Name_Honda CB Hornet 160R',\n",
            "       'Car_Name_Honda CB Shine', 'Car_Name_Honda CB Trigger',\n",
            "       'Car_Name_Honda CB Unicorn', 'Car_Name_Honda CB twister',\n",
            "       'Car_Name_Honda CBR 150', 'Car_Name_Honda Dream Yuga ',\n",
            "       'Car_Name_KTM RC200', 'Car_Name_Royal Enfield Bullet 350',\n",
            "       'Car_Name_Royal Enfield Classic 350', 'Car_Name_Suzuki Access 125',\n",
            "       'Car_Name_TVS Apache RTR 160', 'Car_Name_TVS Apache RTR 180',\n",
            "       'Car_Name_TVS Jupyter', 'Car_Name_UM Renegade Mojave',\n",
            "       'Car_Name_Yamaha FZ  v 2.0', 'Car_Name_Yamaha FZ S ',\n",
            "       'Car_Name_Yamaha FZ S V 2.0', 'Car_Name_Yamaha Fazer ',\n",
            "       'Car_Name_alto 800', 'Car_Name_alto k10', 'Car_Name_corolla altis',\n",
            "       'Car_Name_eon', 'Car_Name_fortuner', 'Car_Name_innova',\n",
            "       'Car_Name_land cruiser', 'Car_Name_omni'],\n",
            "      dtype='object')\n",
            "\n",
            "Selected features for Decision Tree Regression:\n",
            "Index(['Year', 'Car_Name_city', 'Car_Name_corolla altis', 'Car_Name_fortuner',\n",
            "       'Car_Name_innova', 'Car_Name_land cruiser', 'Seller_Type_Individual',\n",
            "       'Transmission_Manual'],\n",
            "      dtype='object')\n"
          ]
        }
      ]
    },
    {
      "cell_type": "code",
      "source": [
        "from sklearn.model_selection import train_test_split\n",
        "from sklearn.linear_model import LinearRegression\n",
        "from sklearn.tree import DecisionTreeRegressor\n",
        "from sklearn.metrics import mean_squared_error\n",
        "from sklearn.feature_selection import SelectFromModel\n",
        "from sklearn.model_selection import GridSearchCV\n",
        "# Linear Regression with best hyperparameters and selected features\n",
        "final_linear_model = LinearRegression(**grid_search_linear.best_params_)\n",
        "\n",
        "# Ensure selected features are present in the training data\n",
        "selected_features_linear = [col for col in X_encoded.columns[linear_selector.get_support()] if col in X_train.columns]\n",
        "\n",
        "# Fit the model with the selected features\n",
        "final_linear_model.fit(X_train[selected_features_linear], y_train)\n",
        "\n",
        "# Evaluate the final Linear Regression model\n",
        "final_linear_pred = final_linear_model.predict(X_test[selected_features_linear])\n",
        "mse_final_linear = mean_squared_error(y_test, final_linear_pred)-test1\n",
        "print(f\"Final Mean Squared Error for Linear Regression: {mse_final_linear}\")\n",
        "\n",
        "# Decision Tree Regression with best hyperparameters and selected features\n",
        "final_tree_model = DecisionTreeRegressor(**grid_search_tree.best_params_)\n",
        "\n",
        "# Ensure selected features are present in the training data\n",
        "selected_features_tree = [col for col in X_encoded.columns[tree_selector.get_support()] if col in X_train.columns]\n",
        "\n",
        "# Fit the model with the selected features\n",
        "final_tree_model.fit(X_train[selected_features_tree], y_train)\n",
        "\n",
        "# Evaluate the final Decision Tree Regression model\n",
        "final_tree_pred = final_tree_model.predict(X_test[selected_features_tree])\n",
        "mse_final_tree = mean_squared_error(y_test, final_tree_pred)\n",
        "print(f\"Final Mean Squared Error for Decision Tree Regression: {mse_final_tree}\")\n"
      ],
      "metadata": {
        "colab": {
          "base_uri": "https://localhost:8080/"
        },
        "id": "uVIhmuvS57Ct",
        "outputId": "0635cdbd-a360-4e96-f44b-415e3e4f20ad"
      },
      "execution_count": 92,
      "outputs": [
        {
          "output_type": "stream",
          "name": "stdout",
          "text": [
            "Final Mean Squared Error for Linear Regression: 13.951678778409132\n",
            "Final Mean Squared Error for Decision Tree Regression: 15.382199656141937\n"
          ]
        }
      ]
    },
    {
      "cell_type": "markdown",
      "source": [
        "This part evaluates the final performance of Linear Regression and Decision Tree Regression models with optimized hyperparameters and selected features. The mean squared error (MSE) for the final Linear Regression model is 13.95, indicating superior predictive accuracy compared to the Decision Tree Regression, which yields an MSE of 15.38. This underscores the importance of effective model selection and feature optimization in achieving better regression results.\n",
        "\n",
        "\n",
        "\n",
        "\n",
        "\n"
      ],
      "metadata": {
        "id": "mc1Ab2A7eW50"
      }
    },
    {
      "cell_type": "markdown",
      "source": [
        "**Conclusion : **\n",
        "In conclusion, the iterative refinement process involving hyperparameter optimization and feature selection significantly impacted the performance of both Linear Regression and Decision Tree Regression models. The initial evaluation revealed the superiority of Linear Regression, and subsequent fine-tuning further validated its effectiveness. The final mean squared error (MSE) for Linear Regression decreased from 14.02 to 13.95, showcasing its improved predictive accuracy. On the other hand, the Decision Tree Regression, despite benefiting from hyperparameter tuning, still exhibited a higher MSE at 15.38. This underscores the importance of a strategic approach to model optimization, where careful consideration of hyperparameters and feature selection can lead to enhanced regression model performance.\n",
        "\n",
        "\n",
        "\n",
        "\n"
      ],
      "metadata": {
        "id": "WjqkxfPJefgz"
      }
    }
  ]
}