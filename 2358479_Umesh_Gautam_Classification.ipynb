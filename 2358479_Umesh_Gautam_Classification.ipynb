{
  "nbformat": 4,
  "nbformat_minor": 0,
  "metadata": {
    "colab": {
      "provenance": []
    },
    "kernelspec": {
      "name": "python3",
      "display_name": "Python 3"
    },
    "language_info": {
      "name": "python"
    }
  },
  "cells": [
    {
      "cell_type": "markdown",
      "source": [
        "\n",
        "In this assessment, I selected a medical dataset conditions and explored its origins and attributes. I performed data cleaning and visualization to understand its characteristics. I built initial models to predict medical outcomes, evaluated their performance, and concluded on the best-performing model. Then, I optimized hyperparameters using cross-validation, enhancing the models' effectiveness. Feature selection techniques were applied to identify crucial factors, and finally, I reconstructed the ultimate models using the best hyperparameters and selected features. This comprehensive approach highlights the application of machine learning."
      ],
      "metadata": {
        "id": "fRIjv4FMMXBd"
      }
    },
    {
      "cell_type": "code",
      "execution_count": 49,
      "metadata": {
        "id": "6ajicOChQXz7"
      },
      "outputs": [],
      "source": [
        "# Importing  necessary libraries needed.\n",
        "import pandas as pd\n",
        "import matplotlib.pyplot as plt\n",
        "import seaborn as sns\n",
        "from sklearn.model_selection import train_test_split\n",
        "from sklearn.linear_model import LogisticRegression\n",
        "from sklearn.svm import SVC\n",
        "from sklearn.metrics import accuracy_score, classification_report\n",
        "\n"
      ]
    },
    {
      "cell_type": "code",
      "source": [
        "#importing the csv file from laptop to colab.\n",
        "from google.colab import files\n",
        "upload=files.upload()"
      ],
      "metadata": {
        "colab": {
          "base_uri": "https://localhost:8080/",
          "height": 73
        },
        "id": "n-yaxjO6ahES",
        "outputId": "74f1871a-43e5-49e7-808e-c8afd4c8648f"
      },
      "execution_count": 50,
      "outputs": [
        {
          "output_type": "display_data",
          "data": {
            "text/plain": [
              "<IPython.core.display.HTML object>"
            ],
            "text/html": [
              "\n",
              "     <input type=\"file\" id=\"files-fa3069b5-59be-4f1e-83fb-b462f48b3c80\" name=\"files[]\" multiple disabled\n",
              "        style=\"border:none\" />\n",
              "     <output id=\"result-fa3069b5-59be-4f1e-83fb-b462f48b3c80\">\n",
              "      Upload widget is only available when the cell has been executed in the\n",
              "      current browser session. Please rerun this cell to enable.\n",
              "      </output>\n",
              "      <script>// Copyright 2017 Google LLC\n",
              "//\n",
              "// Licensed under the Apache License, Version 2.0 (the \"License\");\n",
              "// you may not use this file except in compliance with the License.\n",
              "// You may obtain a copy of the License at\n",
              "//\n",
              "//      http://www.apache.org/licenses/LICENSE-2.0\n",
              "//\n",
              "// Unless required by applicable law or agreed to in writing, software\n",
              "// distributed under the License is distributed on an \"AS IS\" BASIS,\n",
              "// WITHOUT WARRANTIES OR CONDITIONS OF ANY KIND, either express or implied.\n",
              "// See the License for the specific language governing permissions and\n",
              "// limitations under the License.\n",
              "\n",
              "/**\n",
              " * @fileoverview Helpers for google.colab Python module.\n",
              " */\n",
              "(function(scope) {\n",
              "function span(text, styleAttributes = {}) {\n",
              "  const element = document.createElement('span');\n",
              "  element.textContent = text;\n",
              "  for (const key of Object.keys(styleAttributes)) {\n",
              "    element.style[key] = styleAttributes[key];\n",
              "  }\n",
              "  return element;\n",
              "}\n",
              "\n",
              "// Max number of bytes which will be uploaded at a time.\n",
              "const MAX_PAYLOAD_SIZE = 100 * 1024;\n",
              "\n",
              "function _uploadFiles(inputId, outputId) {\n",
              "  const steps = uploadFilesStep(inputId, outputId);\n",
              "  const outputElement = document.getElementById(outputId);\n",
              "  // Cache steps on the outputElement to make it available for the next call\n",
              "  // to uploadFilesContinue from Python.\n",
              "  outputElement.steps = steps;\n",
              "\n",
              "  return _uploadFilesContinue(outputId);\n",
              "}\n",
              "\n",
              "// This is roughly an async generator (not supported in the browser yet),\n",
              "// where there are multiple asynchronous steps and the Python side is going\n",
              "// to poll for completion of each step.\n",
              "// This uses a Promise to block the python side on completion of each step,\n",
              "// then passes the result of the previous step as the input to the next step.\n",
              "function _uploadFilesContinue(outputId) {\n",
              "  const outputElement = document.getElementById(outputId);\n",
              "  const steps = outputElement.steps;\n",
              "\n",
              "  const next = steps.next(outputElement.lastPromiseValue);\n",
              "  return Promise.resolve(next.value.promise).then((value) => {\n",
              "    // Cache the last promise value to make it available to the next\n",
              "    // step of the generator.\n",
              "    outputElement.lastPromiseValue = value;\n",
              "    return next.value.response;\n",
              "  });\n",
              "}\n",
              "\n",
              "/**\n",
              " * Generator function which is called between each async step of the upload\n",
              " * process.\n",
              " * @param {string} inputId Element ID of the input file picker element.\n",
              " * @param {string} outputId Element ID of the output display.\n",
              " * @return {!Iterable<!Object>} Iterable of next steps.\n",
              " */\n",
              "function* uploadFilesStep(inputId, outputId) {\n",
              "  const inputElement = document.getElementById(inputId);\n",
              "  inputElement.disabled = false;\n",
              "\n",
              "  const outputElement = document.getElementById(outputId);\n",
              "  outputElement.innerHTML = '';\n",
              "\n",
              "  const pickedPromise = new Promise((resolve) => {\n",
              "    inputElement.addEventListener('change', (e) => {\n",
              "      resolve(e.target.files);\n",
              "    });\n",
              "  });\n",
              "\n",
              "  const cancel = document.createElement('button');\n",
              "  inputElement.parentElement.appendChild(cancel);\n",
              "  cancel.textContent = 'Cancel upload';\n",
              "  const cancelPromise = new Promise((resolve) => {\n",
              "    cancel.onclick = () => {\n",
              "      resolve(null);\n",
              "    };\n",
              "  });\n",
              "\n",
              "  // Wait for the user to pick the files.\n",
              "  const files = yield {\n",
              "    promise: Promise.race([pickedPromise, cancelPromise]),\n",
              "    response: {\n",
              "      action: 'starting',\n",
              "    }\n",
              "  };\n",
              "\n",
              "  cancel.remove();\n",
              "\n",
              "  // Disable the input element since further picks are not allowed.\n",
              "  inputElement.disabled = true;\n",
              "\n",
              "  if (!files) {\n",
              "    return {\n",
              "      response: {\n",
              "        action: 'complete',\n",
              "      }\n",
              "    };\n",
              "  }\n",
              "\n",
              "  for (const file of files) {\n",
              "    const li = document.createElement('li');\n",
              "    li.append(span(file.name, {fontWeight: 'bold'}));\n",
              "    li.append(span(\n",
              "        `(${file.type || 'n/a'}) - ${file.size} bytes, ` +\n",
              "        `last modified: ${\n",
              "            file.lastModifiedDate ? file.lastModifiedDate.toLocaleDateString() :\n",
              "                                    'n/a'} - `));\n",
              "    const percent = span('0% done');\n",
              "    li.appendChild(percent);\n",
              "\n",
              "    outputElement.appendChild(li);\n",
              "\n",
              "    const fileDataPromise = new Promise((resolve) => {\n",
              "      const reader = new FileReader();\n",
              "      reader.onload = (e) => {\n",
              "        resolve(e.target.result);\n",
              "      };\n",
              "      reader.readAsArrayBuffer(file);\n",
              "    });\n",
              "    // Wait for the data to be ready.\n",
              "    let fileData = yield {\n",
              "      promise: fileDataPromise,\n",
              "      response: {\n",
              "        action: 'continue',\n",
              "      }\n",
              "    };\n",
              "\n",
              "    // Use a chunked sending to avoid message size limits. See b/62115660.\n",
              "    let position = 0;\n",
              "    do {\n",
              "      const length = Math.min(fileData.byteLength - position, MAX_PAYLOAD_SIZE);\n",
              "      const chunk = new Uint8Array(fileData, position, length);\n",
              "      position += length;\n",
              "\n",
              "      const base64 = btoa(String.fromCharCode.apply(null, chunk));\n",
              "      yield {\n",
              "        response: {\n",
              "          action: 'append',\n",
              "          file: file.name,\n",
              "          data: base64,\n",
              "        },\n",
              "      };\n",
              "\n",
              "      let percentDone = fileData.byteLength === 0 ?\n",
              "          100 :\n",
              "          Math.round((position / fileData.byteLength) * 100);\n",
              "      percent.textContent = `${percentDone}% done`;\n",
              "\n",
              "    } while (position < fileData.byteLength);\n",
              "  }\n",
              "\n",
              "  // All done.\n",
              "  yield {\n",
              "    response: {\n",
              "      action: 'complete',\n",
              "    }\n",
              "  };\n",
              "}\n",
              "\n",
              "scope.google = scope.google || {};\n",
              "scope.google.colab = scope.google.colab || {};\n",
              "scope.google.colab._files = {\n",
              "  _uploadFiles,\n",
              "  _uploadFilesContinue,\n",
              "};\n",
              "})(self);\n",
              "</script> "
            ]
          },
          "metadata": {}
        },
        {
          "output_type": "stream",
          "name": "stdout",
          "text": [
            "Saving heart.csv to heart (5).csv\n"
          ]
        }
      ]
    },
    {
      "cell_type": "code",
      "source": [
        "#This code reads a heart-related dataset from a CSV file ('heart.csv') into a Pandas DataFrame called 'heart_data'.\n",
        "heart_data= pd.read_csv('heart.csv')"
      ],
      "metadata": {
        "id": "7xVuox5bbWEA"
      },
      "execution_count": 51,
      "outputs": []
    },
    {
      "cell_type": "code",
      "source": [
        "#displaying information about the dataset, including details about the columns, data types, and non-null values.\n",
        "print(\"data Information:\")\n",
        "print(heart_data.info())"
      ],
      "metadata": {
        "colab": {
          "base_uri": "https://localhost:8080/"
        },
        "id": "7Y6mbac4bo9S",
        "outputId": "3ef9bd68-a6af-48ae-e2f9-be76268aeb3d"
      },
      "execution_count": 52,
      "outputs": [
        {
          "output_type": "stream",
          "name": "stdout",
          "text": [
            "data Information:\n",
            "<class 'pandas.core.frame.DataFrame'>\n",
            "RangeIndex: 273 entries, 0 to 272\n",
            "Data columns (total 14 columns):\n",
            " #   Column                   Non-Null Count  Dtype  \n",
            "---  ------                   --------------  -----  \n",
            " 0   Age                      273 non-null    int64  \n",
            " 1   Sex                      273 non-null    int64  \n",
            " 2   Chest pain type          272 non-null    float64\n",
            " 3   BP                       272 non-null    float64\n",
            " 4   Cholesterol              273 non-null    int64  \n",
            " 5   FBS over 120             273 non-null    int64  \n",
            " 6   EKG results              273 non-null    int64  \n",
            " 7   Max HR                   272 non-null    float64\n",
            " 8   Exercise angina          273 non-null    int64  \n",
            " 9   ST depression            273 non-null    float64\n",
            " 10  Slope of ST              273 non-null    int64  \n",
            " 11  Number of vessels fluro  273 non-null    int64  \n",
            " 12  Thallium                 273 non-null    int64  \n",
            " 13  Heart Disease            273 non-null    object \n",
            "dtypes: float64(4), int64(9), object(1)\n",
            "memory usage: 30.0+ KB\n",
            "None\n"
          ]
        }
      ]
    },
    {
      "cell_type": "code",
      "source": [
        "#printing the first few rows of the dataset, providing a view to the type of data it contains.\n",
        "print(\"columns head of the dataset :\")\n",
        "print(heart_data.head())"
      ],
      "metadata": {
        "colab": {
          "base_uri": "https://localhost:8080/"
        },
        "id": "7K_egzGEcOQk",
        "outputId": "be06a2b8-5a28-47d7-ffed-e1721c0dd92d"
      },
      "execution_count": 53,
      "outputs": [
        {
          "output_type": "stream",
          "name": "stdout",
          "text": [
            "columns head of the dataset :\n",
            "   Age  Sex  Chest pain type     BP  Cholesterol  FBS over 120  EKG results  \\\n",
            "0   70    1              4.0  130.0          322             0            2   \n",
            "1   67    0              3.0  115.0          564             0            2   \n",
            "2   57    1              2.0  124.0          261             0            0   \n",
            "3   64    1              4.0  128.0          263             0            0   \n",
            "4   74    0              2.0  120.0          269             0            2   \n",
            "\n",
            "   Max HR  Exercise angina  ST depression  Slope of ST  \\\n",
            "0   109.0                0            2.4            2   \n",
            "1   160.0                0            1.6            2   \n",
            "2   141.0                0            0.3            1   \n",
            "3   105.0                1            0.2            2   \n",
            "4   121.0                1            0.2            1   \n",
            "\n",
            "   Number of vessels fluro  Thallium Heart Disease  \n",
            "0                        3         3      Presence  \n",
            "1                        0         7       Absence  \n",
            "2                        0         7      Presence  \n",
            "3                        1         7       Absence  \n",
            "4                        1         3       Absence  \n"
          ]
        }
      ]
    },
    {
      "cell_type": "code",
      "source": [
        "#printing the summary statistics of the dataset.\n",
        "print(\"Summary Statistics:\")\n",
        "print(heart_data.describe())"
      ],
      "metadata": {
        "colab": {
          "base_uri": "https://localhost:8080/"
        },
        "id": "dBBjlCQuc0KX",
        "outputId": "5a73e127-5620-4192-a34a-ae6fa0841cff"
      },
      "execution_count": 54,
      "outputs": [
        {
          "output_type": "stream",
          "name": "stdout",
          "text": [
            "Summary Statistics:\n",
            "              Age         Sex  Chest pain type          BP  Cholesterol  \\\n",
            "count  273.000000  273.000000       272.000000  272.000000   273.000000   \n",
            "mean    54.512821    0.677656         3.180147  131.444853   249.967033   \n",
            "std      9.093510    0.468232         0.949214   17.833917    51.487602   \n",
            "min     29.000000    0.000000         1.000000   94.000000   126.000000   \n",
            "25%     48.000000    0.000000         3.000000  120.000000   213.000000   \n",
            "50%     55.000000    1.000000         3.000000  130.000000   245.000000   \n",
            "75%     61.000000    1.000000         4.000000  140.000000   282.000000   \n",
            "max     77.000000    1.000000         4.000000  200.000000   564.000000   \n",
            "\n",
            "       FBS over 120  EKG results      Max HR  Exercise angina  ST depression  \\\n",
            "count    273.000000   273.000000  272.000000       273.000000     273.000000   \n",
            "mean       0.146520     1.025641  149.621324         0.333333       1.061905   \n",
            "std        0.354276     0.997829   23.089430         0.472270       1.148759   \n",
            "min        0.000000     0.000000   71.000000         0.000000       0.000000   \n",
            "25%        0.000000     0.000000  133.000000         0.000000       0.000000   \n",
            "50%        0.000000     2.000000  153.000000         0.000000       0.800000   \n",
            "75%        0.000000     2.000000  166.000000         1.000000       1.800000   \n",
            "max        1.000000     2.000000  202.000000         1.000000       6.200000   \n",
            "\n",
            "       Slope of ST  Number of vessels fluro    Thallium  \n",
            "count   273.000000               273.000000  273.000000  \n",
            "mean      1.586081                 0.677656    4.706960  \n",
            "std       0.613054                 0.946421    1.942706  \n",
            "min       1.000000                 0.000000    3.000000  \n",
            "25%       1.000000                 0.000000    3.000000  \n",
            "50%       2.000000                 0.000000    3.000000  \n",
            "75%       2.000000                 1.000000    7.000000  \n",
            "max       3.000000                 3.000000    7.000000  \n"
          ]
        }
      ]
    },
    {
      "cell_type": "code",
      "source": [
        "#Identify Missing Values\n",
        "missing_values = heart_data.isnull().sum()\n",
        "print(\"Missing Values:\\n\", missing_values)"
      ],
      "metadata": {
        "colab": {
          "base_uri": "https://localhost:8080/"
        },
        "id": "hZRPj_a4c6dz",
        "outputId": "e394365c-b5f2-4279-8fe2-e728d03d3be8"
      },
      "execution_count": 55,
      "outputs": [
        {
          "output_type": "stream",
          "name": "stdout",
          "text": [
            "Missing Values:\n",
            " Age                        0\n",
            "Sex                        0\n",
            "Chest pain type            1\n",
            "BP                         1\n",
            "Cholesterol                0\n",
            "FBS over 120               0\n",
            "EKG results                0\n",
            "Max HR                     1\n",
            "Exercise angina            0\n",
            "ST depression              0\n",
            "Slope of ST                0\n",
            "Number of vessels fluro    0\n",
            "Thallium                   0\n",
            "Heart Disease              0\n",
            "dtype: int64\n"
          ]
        }
      ]
    },
    {
      "cell_type": "code",
      "source": [
        "#droping rows with missing values in the dataset.\n",
        "data_cleaned = heart_data.dropna()"
      ],
      "metadata": {
        "id": "rh25lEmFdhIk"
      },
      "execution_count": 56,
      "outputs": []
    },
    {
      "cell_type": "code",
      "source": [
        "#Check for Duplicate Rows\n",
        "duplicate_rows = data_cleaned.duplicated()\n",
        "print(\"Duplicate Rows:\\n\", duplicate_rows)\n",
        "\n",
        "# Drop duplicate rows\n",
        "df_cleaned = data_cleaned.drop_duplicates()"
      ],
      "metadata": {
        "colab": {
          "base_uri": "https://localhost:8080/"
        },
        "id": "IwZfftcWeqgb",
        "outputId": "5807348c-0553-4014-902d-b6e677fe0984"
      },
      "execution_count": 58,
      "outputs": [
        {
          "output_type": "stream",
          "name": "stdout",
          "text": [
            "Duplicate Rows:\n",
            " 0      False\n",
            "1      False\n",
            "2      False\n",
            "3      False\n",
            "4      False\n",
            "       ...  \n",
            "267    False\n",
            "268    False\n",
            "269    False\n",
            "270     True\n",
            "271     True\n",
            "Length: 272, dtype: bool\n"
          ]
        }
      ]
    },
    {
      "cell_type": "code",
      "source": [
        "# Display cleaned dataset\n",
        "print(\"Cleaned Dataset:\")\n",
        "print(data_cleaned.head())"
      ],
      "metadata": {
        "colab": {
          "base_uri": "https://localhost:8080/"
        },
        "id": "W65y_f_xe0TM",
        "outputId": "5a788b86-f0fe-44e8-cdba-873930c34ca5"
      },
      "execution_count": 59,
      "outputs": [
        {
          "output_type": "stream",
          "name": "stdout",
          "text": [
            "Cleaned Dataset:\n",
            "   Age  Sex  Chest pain type     BP  Cholesterol  FBS over 120  EKG results  \\\n",
            "0   70    1              4.0  130.0          322             0            2   \n",
            "1   67    0              3.0  115.0          564             0            2   \n",
            "2   57    1              2.0  124.0          261             0            0   \n",
            "3   64    1              4.0  128.0          263             0            0   \n",
            "4   74    0              2.0  120.0          269             0            2   \n",
            "\n",
            "   Max HR  Exercise angina  ST depression  Slope of ST  \\\n",
            "0   109.0                0            2.4            2   \n",
            "1   160.0                0            1.6            2   \n",
            "2   141.0                0            0.3            1   \n",
            "3   105.0                1            0.2            2   \n",
            "4   121.0                1            0.2            1   \n",
            "\n",
            "   Number of vessels fluro  Thallium Heart Disease  \n",
            "0                        3         3      Presence  \n",
            "1                        0         7       Absence  \n",
            "2                        0         7      Presence  \n",
            "3                        1         7       Absence  \n",
            "4                        1         3       Absence  \n"
          ]
        }
      ]
    },
    {
      "cell_type": "code",
      "source": [
        "#creating countplot to visualize the distribution of Heart Disease in the cleaned dataset.\n",
        "plt.figure(figsize=(6, 4))\n",
        "sns.countplot(x='Heart Disease', data=data_cleaned)\n",
        "plt.title('Distribution of Heart Disease')\n",
        "plt.show()\n"
      ],
      "metadata": {
        "colab": {
          "base_uri": "https://localhost:8080/",
          "height": 410
        },
        "id": "x318cwz3gQ86",
        "outputId": "79627f0d-f3ba-48fe-c367-f9b8576ab5dd"
      },
      "execution_count": 60,
      "outputs": [
        {
          "output_type": "display_data",
          "data": {
            "text/plain": [
              "<Figure size 600x400 with 1 Axes>"
            ],
            "image/png": "[encoded data removed]"
          },
          "metadata": {}
        }
      ]
    },
    {
      "cell_type": "markdown",
      "source": [
        "This code creates a bar chart showing the number of people with and without heart disease in a cleaned dataset. Around 125 people are labeled as having heart disease ('Presence'), and about 150 people are marked as not having heart disease ('Absence'). The chart gives a straightforward view of the dataset, highlighting the difference in the counts of individuals with and without heart disease."
      ],
      "metadata": {
        "id": "i9IUd8DDPtdh"
      }
    },
    {
      "cell_type": "code",
      "source": [
        "import seaborn as sns\n",
        "import matplotlib.pyplot as plt\n",
        "\n",
        "data_cleaned_copy = data_cleaned.copy()\n",
        "data_cleaned_copy['Heart Disease'] = data_cleaned_copy['Heart Disease'].map({'Presence': 1, 'Absence': 0})\n",
        "\n",
        "# Create a bar plot\n",
        "plt.figure(figsize=(12, 8))\n",
        "sns.countplot(x='Age', hue='Heart Disease', data=data_cleaned_copy)\n",
        "plt.title('Distribution of Heart Disease by Age')\n",
        "plt.xlabel('Age')\n",
        "plt.ylabel('Count')\n",
        "plt.show()\n"
      ],
      "metadata": {
        "colab": {
          "base_uri": "https://localhost:8080/",
          "height": 718
        },
        "id": "BNV_IRnTgezL",
        "outputId": "fc60a960-1ba2-4761-90f4-224dbc9dfb3a"
      },
      "execution_count": 61,
      "outputs": [
        {
          "output_type": "display_data",
          "data": {
            "text/plain": [
              "<Figure size 1200x800 with 1 Axes>"
            ],
            "image/png": "[encoded data removed]"
          },
          "metadata": {}
        }
      ]
    },
    {
      "cell_type": "markdown",
      "source": [
        "The bar graph illustrates that the highest incidence of heart disease occurs among individuals aged 60. Notably, within the age range of 58 to 62, there is a notable peak in heart disease cases. Conversely, in the age range of 41 to 46, there is a lack of reported heart issues despite a relatively high population within that range."
      ],
      "metadata": {
        "id": "f78HS_u6StBB"
      }
    },
    {
      "cell_type": "code",
      "source": [
        "plt.figure(figsize=(12, 6))\n",
        "sns.boxplot(x='Sex', y='Age', data=data_cleaned, hue='Heart Disease')\n",
        "plt.title('Boxplot of Age by Sex and Heart Disease')\n",
        "plt.show()\n"
      ],
      "metadata": {
        "colab": {
          "base_uri": "https://localhost:8080/",
          "height": 564
        },
        "id": "naOvSr0vhpXn",
        "outputId": "ffe4464c-400c-4fe5-e849-d9869d0f455d"
      },
      "execution_count": 62,
      "outputs": [
        {
          "output_type": "display_data",
          "data": {
            "text/plain": [
              "<Figure size 1200x600 with 1 Axes>"
            ],
            "image/png": "[encoded data removed]"
          },
          "metadata": {}
        }
      ]
    },
    {
      "cell_type": "code",
      "source": [
        "import pandas as pd\n",
        "# Grouped data by 'Sex' and 'Heart Disease', and calculate summary statistics for 'Age'\n",
        "grouped_data = data_cleaned.groupby(['Sex', 'Heart Disease'])['Age'].describe()\n",
        "\n",
        "# Displaying the resulting DataFrame\n",
        "print(grouped_data)\n"
      ],
      "metadata": {
        "colab": {
          "base_uri": "https://localhost:8080/"
        },
        "id": "Ml4chRvP5Rux",
        "outputId": "3022fe09-e6e7-4185-ef81-df4bd4dc8b73"
      },
      "execution_count": 63,
      "outputs": [
        {
          "output_type": "stream",
          "name": "stdout",
          "text": [
            "                   count       mean        std   min   25%   50%   75%   max\n",
            "Sex Heart Disease                                                           \n",
            "0   Absence         67.0  54.582090  10.367708  34.0  46.0  54.0  63.5  76.0\n",
            "    Presence        20.0  59.350000   5.254322  43.0  57.5  61.0  62.0  66.0\n",
            "1   Absence         83.0  51.192771   8.521791  29.0  44.0  52.0  57.0  70.0\n",
            "    Presence       102.0  56.117647   8.421206  35.0  51.0  58.0  61.0  77.0\n"
          ]
        }
      ]
    },
    {
      "cell_type": "code",
      "source": [
        "from sklearn.model_selection import train_test_split\n",
        "from sklearn.linear_model import LogisticRegression\n",
        "from sklearn.svm import SVC\n",
        "from sklearn.metrics import accuracy_score\n",
        "from sklearn.metrics import classification_report\n",
        "\n",
        "# 'Heart Disease' is  my target variable for classification\n",
        "X_classification = data_cleaned.drop('Heart Disease', axis=1)\n",
        "y_classification = data_cleaned['Heart Disease']\n",
        "\n",
        "# Splitting the classification dataset into Train and Test sets\n",
        "X_train_classification, X_test_classification, y_train_classification, y_test_classification = train_test_split(\n",
        "    X_classification, y_classification, test_size=0.2, random_state=42\n",
        ")\n",
        "\n",
        "# Building classification models\n",
        "model_lr_classification = LogisticRegression(max_iter=1000)  # Increase the max_iter value\n",
        "model_svm_classification = SVC()\n",
        "\n",
        "# Train classification models on the training set\n",
        "model_lr_classification.fit(X_train_classification, y_train_classification)\n",
        "model_svm_classification.fit(X_train_classification, y_train_classification)\n",
        "\n",
        "# Evaluate classification models on Train set\n",
        "pred_lr_train_classification = model_lr_classification.predict(X_train_classification)\n",
        "pred_svm_train_classification = model_svm_classification.predict(X_train_classification)\n",
        "\n",
        "# Evaluate classification models on Test set\n",
        "pred_lr_test_classification = model_lr_classification.predict(X_test_classification)\n",
        "pred_svm_test_classification = model_svm_classification.predict(X_test_classification)\n",
        "\n",
        "# Printing evaluation metrics for Train set\n",
        "print(\"Logistic Regression Train Set Accuracy:\", accuracy_score(y_train_classification, pred_lr_train_classification))\n",
        "print(\"SVM Train Set Accuracy:\", accuracy_score(y_train_classification, pred_svm_train_classification))\n",
        "\n",
        "# Printing evaluation metrics for Test set\n",
        "print(\"Logistic Regression Test Set Accuracy:\", accuracy_score(y_test_classification, pred_lr_test_classification))\n",
        "print(\"SVM Test Set Accuracy:\", accuracy_score(y_test_classification, pred_svm_test_classification))\n",
        "\n",
        "# Classification report for Test set\n",
        "print(\"Logistic Regression Classification Report:\")\n",
        "print(classification_report(y_test_classification, pred_lr_test_classification))\n",
        "\n",
        "# SVM Classification Report\n",
        "print(\"SVM Classification Report:\")\n",
        "print(classification_report(y_test_classification, pred_svm_test_classification))\n"
      ],
      "metadata": {
        "colab": {
          "base_uri": "https://localhost:8080/"
        },
        "id": "q_Vw3LvO5Tkj",
        "outputId": "55757652-0149-4738-9164-d9bfbb035eed"
      },
      "execution_count": 64,
      "outputs": [
        {
          "output_type": "stream",
          "name": "stdout",
          "text": [
            "Logistic Regression Train Set Accuracy: 0.847926267281106\n",
            "SVM Train Set Accuracy: 0.6774193548387096\n",
            "Logistic Regression Test Set Accuracy: 0.9272727272727272\n",
            "SVM Test Set Accuracy: 0.6727272727272727\n",
            "Logistic Regression Classification Report:\n",
            "              precision    recall  f1-score   support\n",
            "\n",
            "     Absence       0.91      0.97      0.94        33\n",
            "    Presence       0.95      0.86      0.90        22\n",
            "\n",
            "    accuracy                           0.93        55\n",
            "   macro avg       0.93      0.92      0.92        55\n",
            "weighted avg       0.93      0.93      0.93        55\n",
            "\n",
            "SVM Classification Report:\n",
            "              precision    recall  f1-score   support\n",
            "\n",
            "     Absence       0.70      0.79      0.74        33\n",
            "    Presence       0.61      0.50      0.55        22\n",
            "\n",
            "    accuracy                           0.67        55\n",
            "   macro avg       0.66      0.64      0.65        55\n",
            "weighted avg       0.67      0.67      0.67        55\n",
            "\n"
          ]
        }
      ]
    },
    {
      "cell_type": "markdown",
      "source": [
        "The Logistic Regression model performs well on both the training and test sets, with higher accuracy than the SVM model.\n",
        "The classification report provides a detailed breakdown of the model's performance for each class.\n",
        "Logistic Regression shows higher precision, recall, and F1-score for both classes compared to the SVM model.\n",
        "In summary, the Logistic Regression model appears to be a better performer for this classification task based on the provided metrics."
      ],
      "metadata": {
        "id": "2C-JfwTGVitc"
      }
    },
    {
      "cell_type": "code",
      "source": [
        "from sklearn.model_selection import train_test_split\n",
        "from sklearn.preprocessing import StandardScaler\n",
        "from sklearn.linear_model import LogisticRegression\n",
        "from sklearn.model_selection import GridSearchCV\n",
        "\n",
        "\n",
        "# Split the classification dataset into Train and Test sets\n",
        "X_train_classification, X_test_classification, y_train_classification, y_test_classification = train_test_split(\n",
        "    X_classification, y_classification, test_size=0.2, random_state=42\n",
        ")\n",
        "\n",
        "# Scale the features using StandardScaler\n",
        "scaler = StandardScaler()\n",
        "X_train_scaled = scaler.fit_transform(X_train_classification)\n",
        "X_test_scaled = scaler.transform(X_test_classification)\n",
        "\n",
        "# Define the hyperparameter grid\n",
        "param_grid_lr = {'C': [0.001, 0.01, 0.1, 1, 10, 100, 1000]}\n",
        "\n",
        "# Create the Logistic Regression model\n",
        "model_lr = LogisticRegression(max_iter=1000)\n",
        "\n",
        "# Perform GridSearchCV\n",
        "grid_search_lr = GridSearchCV(model_lr, param_grid_lr, cv=5, scoring='accuracy')\n",
        "grid_search_lr.fit(X_train_scaled, y_train_classification)\n",
        "\n",
        "# Print best hyperparameters\n",
        "print(\"Best Hyperparameters for Logistic Regression:\", grid_search_lr.best_params_)\n",
        "\n",
        "# Get the best model\n",
        "best_model_lr = grid_search_lr.best_estimator_\n"
      ],
      "metadata": {
        "colab": {
          "base_uri": "https://localhost:8080/"
        },
        "id": "QZ6dG7Z28CgK",
        "outputId": "469c4edf-76c3-4542-af53-f606327d331c"
      },
      "execution_count": null,
      "outputs": [
        {
          "output_type": "stream",
          "name": "stdout",
          "text": [
            "Best Hyperparameters for Logistic Regression: {'C': 0.1}\n"
          ]
        }
      ]
    },
    {
      "cell_type": "markdown",
      "source": [
        "Here, the dataset is split into training and test sets, and features are standardized using StandardScaler. The hyperparameter grid focuses on tuning the 'C' parameter, and the grid search identifies the best value as 0.1. This signifies that a regularization parameter of 0.1 optimally balances the model's complexity and accuracy during the cross-validation process. The resulting best Logistic Regression model, with the recommended hyperparameters, can be applied for improved predictive performance on the specific dataset."
      ],
      "metadata": {
        "id": "8L6xwPS1V3wD"
      }
    },
    {
      "cell_type": "code",
      "source": [
        "# Hyperparameter optimization for SVM\n",
        "param_grid_svm = {'C': [0.1, 1, 10, 100], 'gamma': [0.01, 0.1, 1]}\n",
        "model_svm = SVC()\n",
        "\n",
        "grid_search_svm = GridSearchCV(model_svm, param_grid_svm, cv=5, scoring='accuracy')\n",
        "grid_search_svm.fit(X_train_scaled, y_train_classification)  # Use scaled features\n",
        "\n",
        "# Print best hyperparameters\n",
        "print(\"Best Hyperparameters for SVM:\", grid_search_svm.best_params_)\n",
        "\n",
        "# Get the best model\n",
        "best_model_svm = grid_search_svm.best_estimator_\n"
      ],
      "metadata": {
        "colab": {
          "base_uri": "https://localhost:8080/"
        },
        "id": "Ouipu1Uj5xx4",
        "outputId": "6d4f1f61-5d05-44b6-ee01-b994f948adae"
      },
      "execution_count": null,
      "outputs": [
        {
          "output_type": "stream",
          "name": "stdout",
          "text": [
            "Best Hyperparameters for SVM: {'C': 1, 'gamma': 0.1}\n"
          ]
        }
      ]
    },
    {
      "cell_type": "markdown",
      "source": [
        "Here, A Support Vector Machine (SVM) model undergoes hyperparameter optimization using GridSearchCV. The hyperparameter grid focuses on tuning the regularization parameter 'C' and the kernel coefficient 'gamma'. After performing a search with 5-fold cross-validation, the optimal hyperparameters for the SVM model are determined to be {'C': 1, 'gamma': 0.1}. These values are selected based on achieving the highest accuracy during the cross-validation process. The identified best hyperparameters can be applied to the SVM model to enhance its accuracy and predictive performance on the specific dataset. This process streamlines the configuration of the SVM model for optimal results, contributing to more effective classification outcomes."
      ],
      "metadata": {
        "id": "cnVRkjLpWW3I"
      }
    },
    {
      "cell_type": "code",
      "source": [
        "from sklearn.feature_selection import SelectKBest, f_classif\n",
        "from sklearn.feature_selection import RFE\n",
        "from sklearn.linear_model import LogisticRegression\n",
        "from sklearn.preprocessing import StandardScaler\n",
        "from sklearn.model_selection import train_test_split\n",
        "from sklearn.metrics import accuracy_score\n",
        "\n",
        "\n",
        "# Scale the features\n",
        "scaler = StandardScaler()\n",
        "X_train_scaled = scaler.fit_transform(X_train_classification)\n",
        "\n",
        "# Apply SelectKBest with f_classif as a scoring function\n",
        "select_k_best = SelectKBest(score_func=f_classif, k=5)\n",
        "X_train_selected = select_k_best.fit_transform(X_train_scaled, y_train_classification)\n",
        "\n",
        "# Build a Logistic Regression model\n",
        "model_lr_classification = LogisticRegression()\n",
        "\n",
        "# Feature selection for Logistic Regression using RFE\n",
        "rfe_lr = RFE(model_lr_classification, n_features_to_select=5)\n",
        "rfe_lr.fit(X_train_selected, y_train_classification)\n",
        "\n",
        "# Get the selected features after RFE\n",
        "selected_features_after_rfe = X_train_selected[:, rfe_lr.support_]\n",
        "\n",
        "# Get the feature names after applying SelectKBest\n",
        "selected_feature_names = X_train_classification.columns[select_k_best.get_support()]\n",
        "\n",
        "# Selected features for Logistic Regression after filter method and RFE\n",
        "print(\"Selected Features for Logistic Regression:\", selected_feature_names)\n"
      ],
      "metadata": {
        "colab": {
          "base_uri": "https://localhost:8080/"
        },
        "id": "i9GX3Tc95zQd",
        "outputId": "4faf175c-9327-4463-bfe2-16d5f70d9c5c"
      },
      "execution_count": null,
      "outputs": [
        {
          "output_type": "stream",
          "name": "stdout",
          "text": [
            "Selected Features for Logistic Regression: Index(['Chest pain type', 'Exercise angina', 'ST depression',\n",
            "       'Number of vessels fluro', 'Thallium'],\n",
            "      dtype='object')\n"
          ]
        }
      ]
    },
    {
      "cell_type": "markdown",
      "source": [
        "Here, Feature selection is performed for a Logistic Regression model using SelectKBest and Recursive Feature Elimination (RFE). The top 5 features are identified as Chest pain type, Exercise angina, ST depression, Number of vessels fluro, and Thallium. This process optimizes the model by focusing on the most relevant predictors, enhancing interpretability, and potentially improving performance."
      ],
      "metadata": {
        "id": "kznDjLpxWsV9"
      }
    },
    {
      "cell_type": "code",
      "source": [
        "import pandas as pd\n",
        "from sklearn.model_selection import train_test_split, GridSearchCV\n",
        "from sklearn.linear_model import LogisticRegression\n",
        "from sklearn.svm import SVC\n",
        "from sklearn.metrics import accuracy_score, classification_report\n",
        "from sklearn.feature_selection import SelectKBest, f_classif, RFE\n",
        "from sklearn.preprocessing import StandardScaler\n",
        "\n",
        "\n",
        "#Heart Disease is target variable for classification\n",
        "X_classification = data_cleaned.drop('Heart Disease', axis=1)\n",
        "y_classification = data_cleaned['Heart Disease']\n",
        "\n",
        "# Split the classification dataset into Train and Test sets\n",
        "X_train_classification, X_test_classification, y_train_classification, y_test_classification = train_test_split(\n",
        "    X_classification, y_classification, test_size=0.1, random_state=42\n",
        ")\n",
        "\n",
        "# Feature Selection using SelectKBest\n",
        "scaler = StandardScaler()\n",
        "X_train_scaled = scaler.fit_transform(X_train_classification)\n",
        "\n",
        "select_k_best = SelectKBest(score_func=f_classif, k=5)\n",
        "X_train_selected = select_k_best.fit_transform(X_train_scaled, y_train_classification)\n",
        "\n",
        "# Feature Selection using RFE with Logistic Regression\n",
        "model_lr_classification = LogisticRegression()\n",
        "rfe_lr = RFE(model_lr_classification, n_features_to_select=5)\n",
        "rfe_lr.fit(X_train_selected, y_train_classification)\n",
        "\n",
        "# Get the selected features after RFE\n",
        "selected_features_lr = X_train_classification.columns[select_k_best.get_support()][rfe_lr.support_]\n",
        "\n",
        "# Build and train final Logistic Regression model with selected features\n",
        "final_model_lr = LogisticRegression(C=0.1, max_iter=1000)\n",
        "final_model_lr.fit(X_train_classification[selected_features_lr], y_train_classification)\n",
        "\n",
        "# Build and train final SVM model with best hyperparameters\n",
        "final_model_svm = SVC(C=grid_search_svm.best_params_['C'], gamma=grid_search_svm.best_params_['gamma'])\n",
        "final_model_svm.fit(X_train_classification[selected_features_lr], y_train_classification)\n",
        "\n",
        "# Evaluate the final models on the test set\n",
        "pred_lr_test_final = final_model_lr.predict(X_test_classification[selected_features_lr])\n",
        "accuracy_lr_test_final = accuracy_score(y_test_classification, pred_lr_test_final)\n",
        "print(\"Final Logistic Regression Test Set Accuracy:\", accuracy_lr_test_final)\n",
        "\n",
        "pred_svm_test_final = final_model_svm.predict(X_test_classification[selected_features_lr])\n",
        "accuracy_svm_test_final = accuracy_score(y_test_classification, pred_svm_test_final)\n",
        "print(\"Final SVM Test Set Accuracy:\", accuracy_svm_test_final)\n",
        "\n",
        "# Classification report for the final Logistic Regression model on the test set\n",
        "print(\"Final Logistic Regression Classification Report:\")\n",
        "print(classification_report(y_test_classification, pred_lr_test_final))\n",
        "\n",
        "# Classification report for the final SVM model on the test set\n",
        "print(\"Final SVM Classification Report:\")\n",
        "print(classification_report(y_test_classification, pred_svm_test_final))\n"
      ],
      "metadata": {
        "colab": {
          "base_uri": "https://localhost:8080/"
        },
        "id": "mwrnIZx054KK",
        "outputId": "e9a155ba-b0d8-4dc3-ff22-9e4a38be807d"
      },
      "execution_count": 65,
      "outputs": [
        {
          "output_type": "stream",
          "name": "stdout",
          "text": [
            "Final Logistic Regression Test Set Accuracy: 0.9285714285714286\n",
            "Final SVM Test Set Accuracy: 0.8571428571428571\n",
            "Final Logistic Regression Classification Report:\n",
            "              precision    recall  f1-score   support\n",
            "\n",
            "     Absence       0.93      0.93      0.93        15\n",
            "    Presence       0.92      0.92      0.92        13\n",
            "\n",
            "    accuracy                           0.93        28\n",
            "   macro avg       0.93      0.93      0.93        28\n",
            "weighted avg       0.93      0.93      0.93        28\n",
            "\n",
            "Final SVM Classification Report:\n",
            "              precision    recall  f1-score   support\n",
            "\n",
            "     Absence       0.87      0.87      0.87        15\n",
            "    Presence       0.85      0.85      0.85        13\n",
            "\n",
            "    accuracy                           0.86        28\n",
            "   macro avg       0.86      0.86      0.86        28\n",
            "weighted avg       0.86      0.86      0.86        28\n",
            "\n"
          ]
        }
      ]
    },
    {
      "cell_type": "markdown",
      "source": [
        "\n",
        "In the final evaluation, the Logistic Regression model achieved a higher test set accuracy of 92.9% compared to the Support Vector Machine (SVM) model's accuracy of 85.7%. Both models demonstrated strong precision, recall, and F1-scores for both \"Absence\" and \"Presence\" classes, indicating balanced performance. Logistic Regression slightly outperformed SVM in all metrics. These results highlight Logistic Regression as the more accurate and well-balanced model for the given classification task."
      ],
      "metadata": {
        "id": "S11Elh_1XXXD"
      }
    },
    {
      "cell_type": "code",
      "source": [
        "import matplotlib.pyplot as plt\n",
        "\n",
        "# List of model names\n",
        "models = ['Logistic Regression', 'SVM']\n",
        "\n",
        "# List of model accuracies\n",
        "accuracies = [accuracy_lr_test_final, accuracy_svm_test_final]\n",
        "\n",
        "# Creating bar plot\n",
        "plt.bar(models, accuracies, color=['blue', 'green'])\n",
        "\n",
        "# Add title and labels\n",
        "plt.title('Accuracy of Final Models on Test Set')\n",
        "plt.xlabel('Model')\n",
        "plt.ylabel('Accuracy')\n",
        "\n",
        "# Show plot\n",
        "plt.show()\n"
      ],
      "metadata": {
        "colab": {
          "base_uri": "https://localhost:8080/",
          "height": 472
        },
        "id": "jfxHOwTzuSBf",
        "outputId": "20f7d74f-dc14-4adf-afd8-5753bde528dc"
      },
      "execution_count": null,
      "outputs": [
        {
          "output_type": "display_data",
          "data": {
            "text/plain": [
              "<Figure size 640x480 with 1 Axes>"
            ],
            "image/png": "[encoded data removed]"
          },
          "metadata": {}
        }
      ]
    },
    {
      "cell_type": "markdown",
      "source": [
        "Logistic Regression exhibited a train set accuracy of 84.8%, a test set accuracy of 92.7%, and a weighted average F1-score of 93%.\n",
        "\n",
        "SVM demonstrated a train set accuracy of 67.7%, a test set accuracy of 67.3%, and a weighted average F1-score of 67%.\n",
        "\n",
        "After hyperparameter tuning and feature selection, the final models performed as follows:\n",
        "\n",
        "Final Logistic Regression achieved a test set accuracy of 92.9%, with precision, recall, and F1-scores of 93% for both classes.\n",
        "\n",
        "Final SVM attained a test set accuracy of 85.7%, with precision, recall, and F1-scores of 87% for the \"Absence\" class and 85% for the \"Presence\" class.\n",
        "\n",
        "Comparing the two stages, hyperparameter tuning and feature selection notably improved the performance of both models. The final Logistic Regression model outperformed SVM in accuracy and various metrics, emphasizing the effectiveness of these optimization techniques in enhancing model capabilities.\n",
        "\n",
        "\n",
        "\n",
        "\n",
        "\n"
      ],
      "metadata": {
        "id": "Tdgfd8qCYE1r"
      }
    }
  ]
}